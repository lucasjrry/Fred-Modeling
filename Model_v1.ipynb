{
 "cells": [
  {
   "cell_type": "code",
   "execution_count": 1,
   "id": "4c980278",
   "metadata": {},
   "outputs": [],
   "source": [
    "import pandas as pd\n",
    "import numpy as np  \n",
    "import matplotlib.pyplot as plt\n",
    "\n",
    "import fredapi as fa\n",
    "import plotly.express as px\n"
   ]
  },
  {
   "cell_type": "code",
   "execution_count": 2,
   "id": "8400b0be",
   "metadata": {},
   "outputs": [],
   "source": [
    "fred = fa.Fred(api_key='648e5a3979f36f714d45272a26ae1ca2')"
   ]
  },
  {
   "cell_type": "code",
   "execution_count": null,
   "id": "344cb87b",
   "metadata": {},
   "outputs": [],
   "source": []
  }
 ],
 "metadata": {
  "kernelspec": {
   "display_name": ".venv",
   "language": "python",
   "name": "python3"
  },
  "language_info": {
   "codemirror_mode": {
    "name": "ipython",
    "version": 3
   },
   "file_extension": ".py",
   "mimetype": "text/x-python",
   "name": "python",
   "nbconvert_exporter": "python",
   "pygments_lexer": "ipython3",
   "version": "3.13.3"
  }
 },
 "nbformat": 4,
 "nbformat_minor": 5
}
